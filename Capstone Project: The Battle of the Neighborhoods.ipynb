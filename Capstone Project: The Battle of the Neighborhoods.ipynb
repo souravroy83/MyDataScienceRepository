{
    "cells": [
        {
            "cell_type": "markdown",
            "metadata": {
                "collapsed": true
            },
            "source": "# IBM Capstone Project: The Battle of the Neighborhoods"
        },
        {
            "cell_type": "markdown",
            "metadata": {},
            "source": "## Open new Turkish Restaurant in Bucharest,Romania"
        },
        {
            "cell_type": "markdown",
            "metadata": {},
            "source": "#### Authored by:Sourav Roy"
        },
        {
            "cell_type": "markdown",
            "metadata": {},
            "source": "## Introduction"
        },
        {
            "cell_type": "markdown",
            "metadata": {},
            "source": "### In this assignment I will attempt to determine which location is good to open a restaturant in Bucharest,Romania\n- Using Nominatim library address values will be converted to Lattitude and Longitude Co-ordinates\n- Using Foursquare API I will explore the neighbourhood of Bucharest\n- Using Foursquare API venue ratings and likes will be obtained\n- K-means clustering will be used for clustering\n- Folium library will be used for visualizing neighbourhoods,venues and clusters\n- Source of Wikipedia URL for Districts of Bucharest - https://en.wikipedia.org/wiki/Category:Districts_of_Bucharest"
        },
        {
            "cell_type": "code",
            "execution_count": 7,
            "metadata": {},
            "outputs": [],
            "source": "\n#install libraries .It's a one time activity . If the notebook throws error while importing necessary libraries please uncomment below 3 lines and execute\n#!pip install geopy    \n#!pip install folium   \n#!pip install geocoder"
        },
        {
            "cell_type": "code",
            "execution_count": 2,
            "metadata": {},
            "outputs": [
                {
                    "name": "stdout",
                    "output_type": "stream",
                    "text": "Libraries import Complete.\n"
                }
            ],
            "source": "#import libraries \nimport numpy as np # library to handle data in a vectorized manner\n\nimport pandas as pd # library for data analsysis\npd.set_option('display.max_columns', None)\npd.set_option('display.max_rows', None)\n\nimport matplotlib.pyplot as plt # for graphical usage \n\nimport json # library to handle JSON files\n\nfrom geopy.geocoders import Nominatim # convert an address into latitude and longitude values\n\nfrom geopy.geocoders import Nominatim # convert an address into latitude and longitude values\nimport geocoder # to get coordinates\n\nimport requests # library to handle requests\nfrom pandas.io.json import json_normalize # tranform JSON file into a pandas dataframe\n\n# Matplotlib and associated plotting modules\nimport matplotlib.cm as cm\nimport matplotlib.colors as colors\n\n# import k-means from clustering stage\nfrom sklearn.cluster import KMeans\n\nimport folium # map rendering library\nfrom folium import plugins\nfrom folium.plugins import HeatMap\n\n# main documentation page: http://beautiful-soup-4.readthedocs.io/en/latest/\n# how to use the BeautifulSoup package: https://www.youtube.com/watch?v=ng2o98k983k video\nfrom bs4 import BeautifulSoup \nimport pandas as pd\nimport requests\n\nprint('Libraries import Complete.')"
        },
        {
            "cell_type": "markdown",
            "metadata": {},
            "source": "#### Get neighbourhood Data of :Bucharest, Romania"
        },
        {
            "cell_type": "code",
            "execution_count": 4,
            "metadata": {},
            "outputs": [
                {
                    "name": "stdout",
                    "output_type": "stream",
                    "text": "There are 40 neighborhoods in Bucharest, Romania\n"
                }
            ],
            "source": "url = \"https://en.wikipedia.org/wiki/Category:Districts of Bucharest\"\nsource = requests.get(url).text\nsoup = BeautifulSoup(source,'lxml')\nbucharest_address = 'Bucharest, Romania'\nneighborhoodList = []\n\n# append the data into the list\nfor row in soup.find_all(\"div\", class_=\"mw-category\")[0].findAll(\"li\"):\n    neighborhoodList.append(row.text.replace(', Bucharest',''))\n    \ndf_neighborhood = pd.DataFrame({\"Neighborhood\": neighborhoodList})\nprint(\"There are {} neighborhoods in {}\".format(df_neighborhood.shape[0], bucharest_address))"
        }
    ],
    "metadata": {
        "kernelspec": {
            "display_name": "Python 3.7",
            "language": "python",
            "name": "python3"
        },
        "language_info": {
            "codemirror_mode": {
                "name": "ipython",
                "version": 3
            },
            "file_extension": ".py",
            "mimetype": "text/x-python",
            "name": "python",
            "nbconvert_exporter": "python",
            "pygments_lexer": "ipython3",
            "version": "3.7.9"
        }
    },
    "nbformat": 4,
    "nbformat_minor": 1
}